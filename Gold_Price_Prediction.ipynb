{
  "nbformat": 4,
  "nbformat_minor": 0,
  "metadata": {
    "colab": {
      "provenance": []
    },
    "kernelspec": {
      "name": "python3",
      "display_name": "Python 3"
    },
    "language_info": {
      "name": "python"
    }
  },
  "cells": [
    {
      "cell_type": "code",
      "execution_count": 1,
      "metadata": {
        "id": "hQDb8trh9LPx"
      },
      "outputs": [],
      "source": [
        "import numpy as np\n",
        "import pandas as pd\n",
        "import matplotlib.pyplot as plt\n",
        "import seaborn as sns\n",
        "from sklearn.model_selection import train_test_split\n",
        "from sklearn.ensemble import RandomForestRegressor\n",
        "from sklearn import metrics"
      ]
    },
    {
      "cell_type": "code",
      "source": [
        "df = pd.read_csv('/content/gld_price_data.csv')\n",
        "df.head()"
      ],
      "metadata": {
        "colab": {
          "base_uri": "https://localhost:8080/",
          "height": 206
        },
        "id": "8ywNlKfH-HlB",
        "outputId": "08105d62-5d56-4736-8fae-0538b42663ec"
      },
      "execution_count": 2,
      "outputs": [
        {
          "output_type": "execute_result",
          "data": {
            "text/plain": [
              "       Date          SPX        GLD        USO     SLV   EUR/USD\n",
              "0  1/2/2008  1447.160034  84.860001  78.470001  15.180  1.471692\n",
              "1  1/3/2008  1447.160034  85.570000  78.370003  15.285  1.474491\n",
              "2  1/4/2008  1411.630005  85.129997  77.309998  15.167  1.475492\n",
              "3  1/7/2008  1416.180054  84.769997  75.500000  15.053  1.468299\n",
              "4  1/8/2008  1390.189941  86.779999  76.059998  15.590  1.557099"
            ],
            "text/html": [
              "\n",
              "  <div id=\"df-0c6bf6ba-f78f-45b1-ac03-e9c4fba6adb4\">\n",
              "    <div class=\"colab-df-container\">\n",
              "      <div>\n",
              "<style scoped>\n",
              "    .dataframe tbody tr th:only-of-type {\n",
              "        vertical-align: middle;\n",
              "    }\n",
              "\n",
              "    .dataframe tbody tr th {\n",
              "        vertical-align: top;\n",
              "    }\n",
              "\n",
              "    .dataframe thead th {\n",
              "        text-align: right;\n",
              "    }\n",
              "</style>\n",
              "<table border=\"1\" class=\"dataframe\">\n",
              "  <thead>\n",
              "    <tr style=\"text-align: right;\">\n",
              "      <th></th>\n",
              "      <th>Date</th>\n",
              "      <th>SPX</th>\n",
              "      <th>GLD</th>\n",
              "      <th>USO</th>\n",
              "      <th>SLV</th>\n",
              "      <th>EUR/USD</th>\n",
              "    </tr>\n",
              "  </thead>\n",
              "  <tbody>\n",
              "    <tr>\n",
              "      <th>0</th>\n",
              "      <td>1/2/2008</td>\n",
              "      <td>1447.160034</td>\n",
              "      <td>84.860001</td>\n",
              "      <td>78.470001</td>\n",
              "      <td>15.180</td>\n",
              "      <td>1.471692</td>\n",
              "    </tr>\n",
              "    <tr>\n",
              "      <th>1</th>\n",
              "      <td>1/3/2008</td>\n",
              "      <td>1447.160034</td>\n",
              "      <td>85.570000</td>\n",
              "      <td>78.370003</td>\n",
              "      <td>15.285</td>\n",
              "      <td>1.474491</td>\n",
              "    </tr>\n",
              "    <tr>\n",
              "      <th>2</th>\n",
              "      <td>1/4/2008</td>\n",
              "      <td>1411.630005</td>\n",
              "      <td>85.129997</td>\n",
              "      <td>77.309998</td>\n",
              "      <td>15.167</td>\n",
              "      <td>1.475492</td>\n",
              "    </tr>\n",
              "    <tr>\n",
              "      <th>3</th>\n",
              "      <td>1/7/2008</td>\n",
              "      <td>1416.180054</td>\n",
              "      <td>84.769997</td>\n",
              "      <td>75.500000</td>\n",
              "      <td>15.053</td>\n",
              "      <td>1.468299</td>\n",
              "    </tr>\n",
              "    <tr>\n",
              "      <th>4</th>\n",
              "      <td>1/8/2008</td>\n",
              "      <td>1390.189941</td>\n",
              "      <td>86.779999</td>\n",
              "      <td>76.059998</td>\n",
              "      <td>15.590</td>\n",
              "      <td>1.557099</td>\n",
              "    </tr>\n",
              "  </tbody>\n",
              "</table>\n",
              "</div>\n",
              "      <button class=\"colab-df-convert\" onclick=\"convertToInteractive('df-0c6bf6ba-f78f-45b1-ac03-e9c4fba6adb4')\"\n",
              "              title=\"Convert this dataframe to an interactive table.\"\n",
              "              style=\"display:none;\">\n",
              "        \n",
              "  <svg xmlns=\"http://www.w3.org/2000/svg\" height=\"24px\"viewBox=\"0 0 24 24\"\n",
              "       width=\"24px\">\n",
              "    <path d=\"M0 0h24v24H0V0z\" fill=\"none\"/>\n",
              "    <path d=\"M18.56 5.44l.94 2.06.94-2.06 2.06-.94-2.06-.94-.94-2.06-.94 2.06-2.06.94zm-11 1L8.5 8.5l.94-2.06 2.06-.94-2.06-.94L8.5 2.5l-.94 2.06-2.06.94zm10 10l.94 2.06.94-2.06 2.06-.94-2.06-.94-.94-2.06-.94 2.06-2.06.94z\"/><path d=\"M17.41 7.96l-1.37-1.37c-.4-.4-.92-.59-1.43-.59-.52 0-1.04.2-1.43.59L10.3 9.45l-7.72 7.72c-.78.78-.78 2.05 0 2.83L4 21.41c.39.39.9.59 1.41.59.51 0 1.02-.2 1.41-.59l7.78-7.78 2.81-2.81c.8-.78.8-2.07 0-2.86zM5.41 20L4 18.59l7.72-7.72 1.47 1.35L5.41 20z\"/>\n",
              "  </svg>\n",
              "      </button>\n",
              "      \n",
              "  <style>\n",
              "    .colab-df-container {\n",
              "      display:flex;\n",
              "      flex-wrap:wrap;\n",
              "      gap: 12px;\n",
              "    }\n",
              "\n",
              "    .colab-df-convert {\n",
              "      background-color: #E8F0FE;\n",
              "      border: none;\n",
              "      border-radius: 50%;\n",
              "      cursor: pointer;\n",
              "      display: none;\n",
              "      fill: #1967D2;\n",
              "      height: 32px;\n",
              "      padding: 0 0 0 0;\n",
              "      width: 32px;\n",
              "    }\n",
              "\n",
              "    .colab-df-convert:hover {\n",
              "      background-color: #E2EBFA;\n",
              "      box-shadow: 0px 1px 2px rgba(60, 64, 67, 0.3), 0px 1px 3px 1px rgba(60, 64, 67, 0.15);\n",
              "      fill: #174EA6;\n",
              "    }\n",
              "\n",
              "    [theme=dark] .colab-df-convert {\n",
              "      background-color: #3B4455;\n",
              "      fill: #D2E3FC;\n",
              "    }\n",
              "\n",
              "    [theme=dark] .colab-df-convert:hover {\n",
              "      background-color: #434B5C;\n",
              "      box-shadow: 0px 1px 3px 1px rgba(0, 0, 0, 0.15);\n",
              "      filter: drop-shadow(0px 1px 2px rgba(0, 0, 0, 0.3));\n",
              "      fill: #FFFFFF;\n",
              "    }\n",
              "  </style>\n",
              "\n",
              "      <script>\n",
              "        const buttonEl =\n",
              "          document.querySelector('#df-0c6bf6ba-f78f-45b1-ac03-e9c4fba6adb4 button.colab-df-convert');\n",
              "        buttonEl.style.display =\n",
              "          google.colab.kernel.accessAllowed ? 'block' : 'none';\n",
              "\n",
              "        async function convertToInteractive(key) {\n",
              "          const element = document.querySelector('#df-0c6bf6ba-f78f-45b1-ac03-e9c4fba6adb4');\n",
              "          const dataTable =\n",
              "            await google.colab.kernel.invokeFunction('convertToInteractive',\n",
              "                                                     [key], {});\n",
              "          if (!dataTable) return;\n",
              "\n",
              "          const docLinkHtml = 'Like what you see? Visit the ' +\n",
              "            '<a target=\"_blank\" href=https://colab.research.google.com/notebooks/data_table.ipynb>data table notebook</a>'\n",
              "            + ' to learn more about interactive tables.';\n",
              "          element.innerHTML = '';\n",
              "          dataTable['output_type'] = 'display_data';\n",
              "          await google.colab.output.renderOutput(dataTable, element);\n",
              "          const docLink = document.createElement('div');\n",
              "          docLink.innerHTML = docLinkHtml;\n",
              "          element.appendChild(docLink);\n",
              "        }\n",
              "      </script>\n",
              "    </div>\n",
              "  </div>\n",
              "  "
            ]
          },
          "metadata": {},
          "execution_count": 2
        }
      ]
    },
    {
      "cell_type": "code",
      "source": [
        "df.tail()"
      ],
      "metadata": {
        "colab": {
          "base_uri": "https://localhost:8080/",
          "height": 206
        },
        "id": "vLRA7FCW-PBD",
        "outputId": "ce008db1-fb07-49d2-8726-e1526c4cc6fd"
      },
      "execution_count": 3,
      "outputs": [
        {
          "output_type": "execute_result",
          "data": {
            "text/plain": [
              "           Date          SPX         GLD      USO      SLV   EUR/USD\n",
              "2285   5/8/2018  2671.919922  124.589996  14.0600  15.5100  1.186789\n",
              "2286   5/9/2018  2697.790039  124.330002  14.3700  15.5300  1.184722\n",
              "2287  5/10/2018  2723.070068  125.180000  14.4100  15.7400  1.191753\n",
              "2288  5/14/2018  2730.129883  124.489998  14.3800  15.5600  1.193118\n",
              "2289  5/16/2018  2725.780029  122.543800  14.4058  15.4542  1.182033"
            ],
            "text/html": [
              "\n",
              "  <div id=\"df-d32534a2-4219-4da8-91a3-da93e6cd544d\">\n",
              "    <div class=\"colab-df-container\">\n",
              "      <div>\n",
              "<style scoped>\n",
              "    .dataframe tbody tr th:only-of-type {\n",
              "        vertical-align: middle;\n",
              "    }\n",
              "\n",
              "    .dataframe tbody tr th {\n",
              "        vertical-align: top;\n",
              "    }\n",
              "\n",
              "    .dataframe thead th {\n",
              "        text-align: right;\n",
              "    }\n",
              "</style>\n",
              "<table border=\"1\" class=\"dataframe\">\n",
              "  <thead>\n",
              "    <tr style=\"text-align: right;\">\n",
              "      <th></th>\n",
              "      <th>Date</th>\n",
              "      <th>SPX</th>\n",
              "      <th>GLD</th>\n",
              "      <th>USO</th>\n",
              "      <th>SLV</th>\n",
              "      <th>EUR/USD</th>\n",
              "    </tr>\n",
              "  </thead>\n",
              "  <tbody>\n",
              "    <tr>\n",
              "      <th>2285</th>\n",
              "      <td>5/8/2018</td>\n",
              "      <td>2671.919922</td>\n",
              "      <td>124.589996</td>\n",
              "      <td>14.0600</td>\n",
              "      <td>15.5100</td>\n",
              "      <td>1.186789</td>\n",
              "    </tr>\n",
              "    <tr>\n",
              "      <th>2286</th>\n",
              "      <td>5/9/2018</td>\n",
              "      <td>2697.790039</td>\n",
              "      <td>124.330002</td>\n",
              "      <td>14.3700</td>\n",
              "      <td>15.5300</td>\n",
              "      <td>1.184722</td>\n",
              "    </tr>\n",
              "    <tr>\n",
              "      <th>2287</th>\n",
              "      <td>5/10/2018</td>\n",
              "      <td>2723.070068</td>\n",
              "      <td>125.180000</td>\n",
              "      <td>14.4100</td>\n",
              "      <td>15.7400</td>\n",
              "      <td>1.191753</td>\n",
              "    </tr>\n",
              "    <tr>\n",
              "      <th>2288</th>\n",
              "      <td>5/14/2018</td>\n",
              "      <td>2730.129883</td>\n",
              "      <td>124.489998</td>\n",
              "      <td>14.3800</td>\n",
              "      <td>15.5600</td>\n",
              "      <td>1.193118</td>\n",
              "    </tr>\n",
              "    <tr>\n",
              "      <th>2289</th>\n",
              "      <td>5/16/2018</td>\n",
              "      <td>2725.780029</td>\n",
              "      <td>122.543800</td>\n",
              "      <td>14.4058</td>\n",
              "      <td>15.4542</td>\n",
              "      <td>1.182033</td>\n",
              "    </tr>\n",
              "  </tbody>\n",
              "</table>\n",
              "</div>\n",
              "      <button class=\"colab-df-convert\" onclick=\"convertToInteractive('df-d32534a2-4219-4da8-91a3-da93e6cd544d')\"\n",
              "              title=\"Convert this dataframe to an interactive table.\"\n",
              "              style=\"display:none;\">\n",
              "        \n",
              "  <svg xmlns=\"http://www.w3.org/2000/svg\" height=\"24px\"viewBox=\"0 0 24 24\"\n",
              "       width=\"24px\">\n",
              "    <path d=\"M0 0h24v24H0V0z\" fill=\"none\"/>\n",
              "    <path d=\"M18.56 5.44l.94 2.06.94-2.06 2.06-.94-2.06-.94-.94-2.06-.94 2.06-2.06.94zm-11 1L8.5 8.5l.94-2.06 2.06-.94-2.06-.94L8.5 2.5l-.94 2.06-2.06.94zm10 10l.94 2.06.94-2.06 2.06-.94-2.06-.94-.94-2.06-.94 2.06-2.06.94z\"/><path d=\"M17.41 7.96l-1.37-1.37c-.4-.4-.92-.59-1.43-.59-.52 0-1.04.2-1.43.59L10.3 9.45l-7.72 7.72c-.78.78-.78 2.05 0 2.83L4 21.41c.39.39.9.59 1.41.59.51 0 1.02-.2 1.41-.59l7.78-7.78 2.81-2.81c.8-.78.8-2.07 0-2.86zM5.41 20L4 18.59l7.72-7.72 1.47 1.35L5.41 20z\"/>\n",
              "  </svg>\n",
              "      </button>\n",
              "      \n",
              "  <style>\n",
              "    .colab-df-container {\n",
              "      display:flex;\n",
              "      flex-wrap:wrap;\n",
              "      gap: 12px;\n",
              "    }\n",
              "\n",
              "    .colab-df-convert {\n",
              "      background-color: #E8F0FE;\n",
              "      border: none;\n",
              "      border-radius: 50%;\n",
              "      cursor: pointer;\n",
              "      display: none;\n",
              "      fill: #1967D2;\n",
              "      height: 32px;\n",
              "      padding: 0 0 0 0;\n",
              "      width: 32px;\n",
              "    }\n",
              "\n",
              "    .colab-df-convert:hover {\n",
              "      background-color: #E2EBFA;\n",
              "      box-shadow: 0px 1px 2px rgba(60, 64, 67, 0.3), 0px 1px 3px 1px rgba(60, 64, 67, 0.15);\n",
              "      fill: #174EA6;\n",
              "    }\n",
              "\n",
              "    [theme=dark] .colab-df-convert {\n",
              "      background-color: #3B4455;\n",
              "      fill: #D2E3FC;\n",
              "    }\n",
              "\n",
              "    [theme=dark] .colab-df-convert:hover {\n",
              "      background-color: #434B5C;\n",
              "      box-shadow: 0px 1px 3px 1px rgba(0, 0, 0, 0.15);\n",
              "      filter: drop-shadow(0px 1px 2px rgba(0, 0, 0, 0.3));\n",
              "      fill: #FFFFFF;\n",
              "    }\n",
              "  </style>\n",
              "\n",
              "      <script>\n",
              "        const buttonEl =\n",
              "          document.querySelector('#df-d32534a2-4219-4da8-91a3-da93e6cd544d button.colab-df-convert');\n",
              "        buttonEl.style.display =\n",
              "          google.colab.kernel.accessAllowed ? 'block' : 'none';\n",
              "\n",
              "        async function convertToInteractive(key) {\n",
              "          const element = document.querySelector('#df-d32534a2-4219-4da8-91a3-da93e6cd544d');\n",
              "          const dataTable =\n",
              "            await google.colab.kernel.invokeFunction('convertToInteractive',\n",
              "                                                     [key], {});\n",
              "          if (!dataTable) return;\n",
              "\n",
              "          const docLinkHtml = 'Like what you see? Visit the ' +\n",
              "            '<a target=\"_blank\" href=https://colab.research.google.com/notebooks/data_table.ipynb>data table notebook</a>'\n",
              "            + ' to learn more about interactive tables.';\n",
              "          element.innerHTML = '';\n",
              "          dataTable['output_type'] = 'display_data';\n",
              "          await google.colab.output.renderOutput(dataTable, element);\n",
              "          const docLink = document.createElement('div');\n",
              "          docLink.innerHTML = docLinkHtml;\n",
              "          element.appendChild(docLink);\n",
              "        }\n",
              "      </script>\n",
              "    </div>\n",
              "  </div>\n",
              "  "
            ]
          },
          "metadata": {},
          "execution_count": 3
        }
      ]
    },
    {
      "cell_type": "code",
      "source": [
        "df.shape"
      ],
      "metadata": {
        "colab": {
          "base_uri": "https://localhost:8080/"
        },
        "id": "UhwXhqhf-Sc6",
        "outputId": "e66b5180-abcd-442c-fc32-875ee8cc3c12"
      },
      "execution_count": 4,
      "outputs": [
        {
          "output_type": "execute_result",
          "data": {
            "text/plain": [
              "(2290, 6)"
            ]
          },
          "metadata": {},
          "execution_count": 4
        }
      ]
    },
    {
      "cell_type": "code",
      "source": [
        "df.info()"
      ],
      "metadata": {
        "colab": {
          "base_uri": "https://localhost:8080/"
        },
        "id": "Jr9SgwH2-Wca",
        "outputId": "9ce86a08-fca7-4091-8e93-45ba0401fb7a"
      },
      "execution_count": 5,
      "outputs": [
        {
          "output_type": "stream",
          "name": "stdout",
          "text": [
            "<class 'pandas.core.frame.DataFrame'>\n",
            "RangeIndex: 2290 entries, 0 to 2289\n",
            "Data columns (total 6 columns):\n",
            " #   Column   Non-Null Count  Dtype  \n",
            "---  ------   --------------  -----  \n",
            " 0   Date     2290 non-null   object \n",
            " 1   SPX      2290 non-null   float64\n",
            " 2   GLD      2290 non-null   float64\n",
            " 3   USO      2290 non-null   float64\n",
            " 4   SLV      2290 non-null   float64\n",
            " 5   EUR/USD  2290 non-null   float64\n",
            "dtypes: float64(5), object(1)\n",
            "memory usage: 107.5+ KB\n"
          ]
        }
      ]
    },
    {
      "cell_type": "code",
      "source": [
        "df.isnull().sum()"
      ],
      "metadata": {
        "colab": {
          "base_uri": "https://localhost:8080/"
        },
        "id": "kvpbnjYH-XVp",
        "outputId": "2c8909ee-a6b4-47aa-de69-8a5dfe2a910b"
      },
      "execution_count": 6,
      "outputs": [
        {
          "output_type": "execute_result",
          "data": {
            "text/plain": [
              "Date       0\n",
              "SPX        0\n",
              "GLD        0\n",
              "USO        0\n",
              "SLV        0\n",
              "EUR/USD    0\n",
              "dtype: int64"
            ]
          },
          "metadata": {},
          "execution_count": 6
        }
      ]
    },
    {
      "cell_type": "code",
      "source": [
        "df.describe()"
      ],
      "metadata": {
        "colab": {
          "base_uri": "https://localhost:8080/",
          "height": 300
        },
        "id": "E31ykA2A-ZWj",
        "outputId": "8e0d33d3-e31b-4a92-c27d-e0af15ecad4a"
      },
      "execution_count": 7,
      "outputs": [
        {
          "output_type": "execute_result",
          "data": {
            "text/plain": [
              "               SPX          GLD          USO          SLV      EUR/USD\n",
              "count  2290.000000  2290.000000  2290.000000  2290.000000  2290.000000\n",
              "mean   1654.315776   122.732875    31.842221    20.084997     1.283653\n",
              "std     519.111540    23.283346    19.523517     7.092566     0.131547\n",
              "min     676.530029    70.000000     7.960000     8.850000     1.039047\n",
              "25%    1239.874969   109.725000    14.380000    15.570000     1.171313\n",
              "50%    1551.434998   120.580002    33.869999    17.268500     1.303297\n",
              "75%    2073.010070   132.840004    37.827501    22.882500     1.369971\n",
              "max    2872.870117   184.589996   117.480003    47.259998     1.598798"
            ],
            "text/html": [
              "\n",
              "  <div id=\"df-2d860eef-6605-4c34-8b97-be709837f6c7\">\n",
              "    <div class=\"colab-df-container\">\n",
              "      <div>\n",
              "<style scoped>\n",
              "    .dataframe tbody tr th:only-of-type {\n",
              "        vertical-align: middle;\n",
              "    }\n",
              "\n",
              "    .dataframe tbody tr th {\n",
              "        vertical-align: top;\n",
              "    }\n",
              "\n",
              "    .dataframe thead th {\n",
              "        text-align: right;\n",
              "    }\n",
              "</style>\n",
              "<table border=\"1\" class=\"dataframe\">\n",
              "  <thead>\n",
              "    <tr style=\"text-align: right;\">\n",
              "      <th></th>\n",
              "      <th>SPX</th>\n",
              "      <th>GLD</th>\n",
              "      <th>USO</th>\n",
              "      <th>SLV</th>\n",
              "      <th>EUR/USD</th>\n",
              "    </tr>\n",
              "  </thead>\n",
              "  <tbody>\n",
              "    <tr>\n",
              "      <th>count</th>\n",
              "      <td>2290.000000</td>\n",
              "      <td>2290.000000</td>\n",
              "      <td>2290.000000</td>\n",
              "      <td>2290.000000</td>\n",
              "      <td>2290.000000</td>\n",
              "    </tr>\n",
              "    <tr>\n",
              "      <th>mean</th>\n",
              "      <td>1654.315776</td>\n",
              "      <td>122.732875</td>\n",
              "      <td>31.842221</td>\n",
              "      <td>20.084997</td>\n",
              "      <td>1.283653</td>\n",
              "    </tr>\n",
              "    <tr>\n",
              "      <th>std</th>\n",
              "      <td>519.111540</td>\n",
              "      <td>23.283346</td>\n",
              "      <td>19.523517</td>\n",
              "      <td>7.092566</td>\n",
              "      <td>0.131547</td>\n",
              "    </tr>\n",
              "    <tr>\n",
              "      <th>min</th>\n",
              "      <td>676.530029</td>\n",
              "      <td>70.000000</td>\n",
              "      <td>7.960000</td>\n",
              "      <td>8.850000</td>\n",
              "      <td>1.039047</td>\n",
              "    </tr>\n",
              "    <tr>\n",
              "      <th>25%</th>\n",
              "      <td>1239.874969</td>\n",
              "      <td>109.725000</td>\n",
              "      <td>14.380000</td>\n",
              "      <td>15.570000</td>\n",
              "      <td>1.171313</td>\n",
              "    </tr>\n",
              "    <tr>\n",
              "      <th>50%</th>\n",
              "      <td>1551.434998</td>\n",
              "      <td>120.580002</td>\n",
              "      <td>33.869999</td>\n",
              "      <td>17.268500</td>\n",
              "      <td>1.303297</td>\n",
              "    </tr>\n",
              "    <tr>\n",
              "      <th>75%</th>\n",
              "      <td>2073.010070</td>\n",
              "      <td>132.840004</td>\n",
              "      <td>37.827501</td>\n",
              "      <td>22.882500</td>\n",
              "      <td>1.369971</td>\n",
              "    </tr>\n",
              "    <tr>\n",
              "      <th>max</th>\n",
              "      <td>2872.870117</td>\n",
              "      <td>184.589996</td>\n",
              "      <td>117.480003</td>\n",
              "      <td>47.259998</td>\n",
              "      <td>1.598798</td>\n",
              "    </tr>\n",
              "  </tbody>\n",
              "</table>\n",
              "</div>\n",
              "      <button class=\"colab-df-convert\" onclick=\"convertToInteractive('df-2d860eef-6605-4c34-8b97-be709837f6c7')\"\n",
              "              title=\"Convert this dataframe to an interactive table.\"\n",
              "              style=\"display:none;\">\n",
              "        \n",
              "  <svg xmlns=\"http://www.w3.org/2000/svg\" height=\"24px\"viewBox=\"0 0 24 24\"\n",
              "       width=\"24px\">\n",
              "    <path d=\"M0 0h24v24H0V0z\" fill=\"none\"/>\n",
              "    <path d=\"M18.56 5.44l.94 2.06.94-2.06 2.06-.94-2.06-.94-.94-2.06-.94 2.06-2.06.94zm-11 1L8.5 8.5l.94-2.06 2.06-.94-2.06-.94L8.5 2.5l-.94 2.06-2.06.94zm10 10l.94 2.06.94-2.06 2.06-.94-2.06-.94-.94-2.06-.94 2.06-2.06.94z\"/><path d=\"M17.41 7.96l-1.37-1.37c-.4-.4-.92-.59-1.43-.59-.52 0-1.04.2-1.43.59L10.3 9.45l-7.72 7.72c-.78.78-.78 2.05 0 2.83L4 21.41c.39.39.9.59 1.41.59.51 0 1.02-.2 1.41-.59l7.78-7.78 2.81-2.81c.8-.78.8-2.07 0-2.86zM5.41 20L4 18.59l7.72-7.72 1.47 1.35L5.41 20z\"/>\n",
              "  </svg>\n",
              "      </button>\n",
              "      \n",
              "  <style>\n",
              "    .colab-df-container {\n",
              "      display:flex;\n",
              "      flex-wrap:wrap;\n",
              "      gap: 12px;\n",
              "    }\n",
              "\n",
              "    .colab-df-convert {\n",
              "      background-color: #E8F0FE;\n",
              "      border: none;\n",
              "      border-radius: 50%;\n",
              "      cursor: pointer;\n",
              "      display: none;\n",
              "      fill: #1967D2;\n",
              "      height: 32px;\n",
              "      padding: 0 0 0 0;\n",
              "      width: 32px;\n",
              "    }\n",
              "\n",
              "    .colab-df-convert:hover {\n",
              "      background-color: #E2EBFA;\n",
              "      box-shadow: 0px 1px 2px rgba(60, 64, 67, 0.3), 0px 1px 3px 1px rgba(60, 64, 67, 0.15);\n",
              "      fill: #174EA6;\n",
              "    }\n",
              "\n",
              "    [theme=dark] .colab-df-convert {\n",
              "      background-color: #3B4455;\n",
              "      fill: #D2E3FC;\n",
              "    }\n",
              "\n",
              "    [theme=dark] .colab-df-convert:hover {\n",
              "      background-color: #434B5C;\n",
              "      box-shadow: 0px 1px 3px 1px rgba(0, 0, 0, 0.15);\n",
              "      filter: drop-shadow(0px 1px 2px rgba(0, 0, 0, 0.3));\n",
              "      fill: #FFFFFF;\n",
              "    }\n",
              "  </style>\n",
              "\n",
              "      <script>\n",
              "        const buttonEl =\n",
              "          document.querySelector('#df-2d860eef-6605-4c34-8b97-be709837f6c7 button.colab-df-convert');\n",
              "        buttonEl.style.display =\n",
              "          google.colab.kernel.accessAllowed ? 'block' : 'none';\n",
              "\n",
              "        async function convertToInteractive(key) {\n",
              "          const element = document.querySelector('#df-2d860eef-6605-4c34-8b97-be709837f6c7');\n",
              "          const dataTable =\n",
              "            await google.colab.kernel.invokeFunction('convertToInteractive',\n",
              "                                                     [key], {});\n",
              "          if (!dataTable) return;\n",
              "\n",
              "          const docLinkHtml = 'Like what you see? Visit the ' +\n",
              "            '<a target=\"_blank\" href=https://colab.research.google.com/notebooks/data_table.ipynb>data table notebook</a>'\n",
              "            + ' to learn more about interactive tables.';\n",
              "          element.innerHTML = '';\n",
              "          dataTable['output_type'] = 'display_data';\n",
              "          await google.colab.output.renderOutput(dataTable, element);\n",
              "          const docLink = document.createElement('div');\n",
              "          docLink.innerHTML = docLinkHtml;\n",
              "          element.appendChild(docLink);\n",
              "        }\n",
              "      </script>\n",
              "    </div>\n",
              "  </div>\n",
              "  "
            ]
          },
          "metadata": {},
          "execution_count": 7
        }
      ]
    },
    {
      "cell_type": "markdown",
      "source": [
        "Checking the correlation"
      ],
      "metadata": {
        "id": "IinrPQuPCZCj"
      }
    },
    {
      "cell_type": "code",
      "source": [
        "correlation = df.corr()"
      ],
      "metadata": {
        "id": "UHEtyczV-bQW"
      },
      "execution_count": 8,
      "outputs": []
    },
    {
      "cell_type": "markdown",
      "source": [
        "Plotting the heatmap to get better understanding of correlation"
      ],
      "metadata": {
        "id": "s0dpz-MBCk1T"
      }
    },
    {
      "cell_type": "code",
      "source": [
        "plt.figure(figsize=(6,6))\n",
        "sns.heatmap(correlation, cbar=True, square=True, fmt='.1f',annot=True, annot_kws={'size':8}, cmap='Reds')"
      ],
      "metadata": {
        "colab": {
          "base_uri": "https://localhost:8080/",
          "height": 378
        },
        "id": "n9-dB-4XChjA",
        "outputId": "5472538c-f31f-4db2-f6cd-165496864e4f"
      },
      "execution_count": 11,
      "outputs": [
        {
          "output_type": "execute_result",
          "data": {
            "text/plain": [
              "<matplotlib.axes._subplots.AxesSubplot at 0x7f2b3e2923d0>"
            ]
          },
          "metadata": {},
          "execution_count": 11
        },
        {
          "output_type": "display_data",
          "data": {
            "text/plain": [
              "<Figure size 432x432 with 2 Axes>"
            ],
            "image/png": "[encoded data removed]"
          },
          "metadata": {
            "needs_background": "light"
          }
        }
      ]
    },
    {
      "cell_type": "markdown",
      "source": [
        "Checking the correlation values of GLD"
      ],
      "metadata": {
        "id": "WXMjLy4TD1xM"
      }
    },
    {
      "cell_type": "code",
      "source": [
        "print(correlation['GLD'])"
      ],
      "metadata": {
        "colab": {
          "base_uri": "https://localhost:8080/"
        },
        "id": "1rAlpuDcDZ-g",
        "outputId": "12edd393-993d-45ea-9a38-97785860971d"
      },
      "execution_count": 12,
      "outputs": [
        {
          "output_type": "stream",
          "name": "stdout",
          "text": [
            "SPX        0.049345\n",
            "GLD        1.000000\n",
            "USO       -0.186360\n",
            "SLV        0.866632\n",
            "EUR/USD   -0.024375\n",
            "Name: GLD, dtype: float64\n"
          ]
        }
      ]
    },
    {
      "cell_type": "markdown",
      "source": [
        "Checking the distribution of the gold price"
      ],
      "metadata": {
        "id": "LPYMkhzpEBZh"
      }
    },
    {
      "cell_type": "code",
      "source": [
        "sns.distplot(df['GLD'],color='red')"
      ],
      "metadata": {
        "colab": {
          "base_uri": "https://localhost:8080/",
          "height": 355
        },
        "id": "c1SMQ5evD-IS",
        "outputId": "01fa8694-c306-48c7-97f4-5a7fb1961fb8"
      },
      "execution_count": 13,
      "outputs": [
        {
          "output_type": "stream",
          "name": "stderr",
          "text": [
            "/usr/local/lib/python3.8/dist-packages/seaborn/distributions.py:2619: FutureWarning: `distplot` is a deprecated function and will be removed in a future version. Please adapt your code to use either `displot` (a figure-level function with similar flexibility) or `histplot` (an axes-level function for histograms).\n",
            "  warnings.warn(msg, FutureWarning)\n"
          ]
        },
        {
          "output_type": "execute_result",
          "data": {
            "text/plain": [
              "<matplotlib.axes._subplots.AxesSubplot at 0x7f2b3e1cadc0>"
            ]
          },
          "metadata": {},
          "execution_count": 13
        },
        {
          "output_type": "display_data",
          "data": {
            "text/plain": [
              "<Figure size 432x288 with 1 Axes>"
            ],
            "image/png": "[encoded data removed]"
          },
          "metadata": {
            "needs_background": "light"
          }
        }
      ]
    },
    {
      "cell_type": "markdown",
      "source": [
        "Splitting the Features and Target"
      ],
      "metadata": {
        "id": "Y-GA6Y-ZEX6J"
      }
    },
    {
      "cell_type": "code",
      "source": [
        "X = df.drop(['Date','GLD'],axis=1)\n",
        "Y = df['GLD']"
      ],
      "metadata": {
        "id": "afplG08bEM_b"
      },
      "execution_count": 14,
      "outputs": []
    },
    {
      "cell_type": "code",
      "source": [
        "print(X)"
      ],
      "metadata": {
        "colab": {
          "base_uri": "https://localhost:8080/"
        },
        "id": "YXWttjOwEoD3",
        "outputId": "4b6b6394-fd11-4d66-b0df-56803bd2f595"
      },
      "execution_count": 16,
      "outputs": [
        {
          "output_type": "stream",
          "name": "stdout",
          "text": [
            "              SPX        USO      SLV   EUR/USD\n",
            "0     1447.160034  78.470001  15.1800  1.471692\n",
            "1     1447.160034  78.370003  15.2850  1.474491\n",
            "2     1411.630005  77.309998  15.1670  1.475492\n",
            "3     1416.180054  75.500000  15.0530  1.468299\n",
            "4     1390.189941  76.059998  15.5900  1.557099\n",
            "...           ...        ...      ...       ...\n",
            "2285  2671.919922  14.060000  15.5100  1.186789\n",
            "2286  2697.790039  14.370000  15.5300  1.184722\n",
            "2287  2723.070068  14.410000  15.7400  1.191753\n",
            "2288  2730.129883  14.380000  15.5600  1.193118\n",
            "2289  2725.780029  14.405800  15.4542  1.182033\n",
            "\n",
            "[2290 rows x 4 columns]\n"
          ]
        }
      ]
    },
    {
      "cell_type": "code",
      "source": [
        "print(Y)"
      ],
      "metadata": {
        "colab": {
          "base_uri": "https://localhost:8080/"
        },
        "id": "CWqIv5bHErYO",
        "outputId": "3c4ee38f-1196-4c88-f80f-d40b2cab1319"
      },
      "execution_count": 17,
      "outputs": [
        {
          "output_type": "stream",
          "name": "stdout",
          "text": [
            "0        84.860001\n",
            "1        85.570000\n",
            "2        85.129997\n",
            "3        84.769997\n",
            "4        86.779999\n",
            "           ...    \n",
            "2285    124.589996\n",
            "2286    124.330002\n",
            "2287    125.180000\n",
            "2288    124.489998\n",
            "2289    122.543800\n",
            "Name: GLD, Length: 2290, dtype: float64\n"
          ]
        }
      ]
    },
    {
      "cell_type": "markdown",
      "source": [
        "Splitting the data into training and testing sets"
      ],
      "metadata": {
        "id": "YVCH70_2Eu33"
      }
    },
    {
      "cell_type": "code",
      "source": [
        "X_train,X_test,Y_train,Y_test = train_test_split(X,Y,test_size=0.3,random_state=3)"
      ],
      "metadata": {
        "id": "m1aVqpevEtuR"
      },
      "execution_count": 18,
      "outputs": []
    },
    {
      "cell_type": "markdown",
      "source": [
        "Training The model"
      ],
      "metadata": {
        "id": "1KiNL4eNFRN0"
      }
    },
    {
      "cell_type": "markdown",
      "source": [
        "Random Forest Regressor"
      ],
      "metadata": {
        "id": "w9K0ls2aFTaq"
      }
    },
    {
      "cell_type": "code",
      "source": [
        "regressor = RandomForestRegressor(n_estimators=100)"
      ],
      "metadata": {
        "id": "yy3bndl3FNWj"
      },
      "execution_count": 19,
      "outputs": []
    },
    {
      "cell_type": "code",
      "source": [
        "regressor.fit(X_train,Y_train)"
      ],
      "metadata": {
        "colab": {
          "base_uri": "https://localhost:8080/"
        },
        "id": "tYBfkFF7Fcyv",
        "outputId": "3faabaa3-c52e-4f3d-f027-e7b4c71766d7"
      },
      "execution_count": 20,
      "outputs": [
        {
          "output_type": "execute_result",
          "data": {
            "text/plain": [
              "RandomForestRegressor()"
            ]
          },
          "metadata": {},
          "execution_count": 20
        }
      ]
    },
    {
      "cell_type": "markdown",
      "source": [
        "Model Evaluation"
      ],
      "metadata": {
        "id": "WhhXY7yIFlHW"
      }
    },
    {
      "cell_type": "code",
      "source": [
        "#prediction on test data\n",
        "test_pred = regressor.predict(X_test)"
      ],
      "metadata": {
        "id": "eWoIept5Fhap"
      },
      "execution_count": 21,
      "outputs": []
    },
    {
      "cell_type": "code",
      "source": [
        "test_pred"
      ],
      "metadata": {
        "colab": {
          "base_uri": "https://localhost:8080/"
        },
        "id": "WqUA-iKmF2A8",
        "outputId": "5c261af4-e819-499e-aebd-519bd3db51a3"
      },
      "execution_count": 22,
      "outputs": [
        {
          "output_type": "execute_result",
          "data": {
            "text/plain": [
              "array([163.93379937, 127.41649994, 124.22709959, 119.66999889,\n",
              "       126.13839881,  85.17189816, 171.69730126, 137.47920061,\n",
              "       106.53310085, 132.7082019 , 120.68589927, 124.85930054,\n",
              "       143.67819747, 104.66049939,  80.82149928, 121.29129989,\n",
              "       140.08430046,  90.72920068,  91.54119936, 128.29350216,\n",
              "       125.30590044, 147.53869947, 117.03570175, 152.18019956,\n",
              "       129.31240031, 129.14300004, 118.19220091, 111.45660029,\n",
              "       167.69010295, 157.98069968, 126.21370141, 152.78570113,\n",
              "       127.07249994, 122.7257978 , 116.47870143, 154.23830016,\n",
              "       115.19570005, 120.65160133, 104.16460205, 106.33640035,\n",
              "       134.87919898,  86.16209994, 156.05630129, 121.73360004,\n",
              "       122.35180069, 154.32470097, 120.45689986, 116.19380044,\n",
              "       168.19890208, 116.78630042, 137.52730164, 161.44049875,\n",
              "       158.5613007 , 153.32990188, 124.40690016, 117.28909984,\n",
              "       167.34720023, 117.31079955, 165.661201  ,  83.69299956,\n",
              "       121.39609924, 122.24649993, 120.31510027, 171.938599  ,\n",
              "       118.88439987, 180.39899632, 161.99870232, 141.03370177,\n",
              "       116.37349968,  92.60950095, 171.86679974, 117.83199986,\n",
              "       117.15709971, 125.87679948, 146.73859864,  91.34050084,\n",
              "        83.67849852,  89.15639982, 102.69969892, 124.29560021,\n",
              "       122.90540029, 169.30780227, 121.0325998 , 126.54079913,\n",
              "       160.18480528, 120.56030057, 169.50560127, 147.62279743,\n",
              "        87.14919987, 126.46800058, 118.76600033,  90.01130007,\n",
              "       118.3472998 , 116.80209795,  89.20909864, 138.51620222,\n",
              "       159.84049951, 131.00960403, 105.63890118, 122.62729981,\n",
              "       120.76170037, 123.91330087, 107.90420047, 115.30400025,\n",
              "       113.97539904, 120.68820031, 158.97050283, 126.76139932,\n",
              "       120.05969937,  91.10839953, 125.46049949, 161.33079912,\n",
              "       158.16010147,  87.43719928, 139.8662012 , 165.99899803,\n",
              "       155.39480051, 110.45829965, 109.35219796, 125.04469984,\n",
              "       113.94820209, 117.32549948, 160.91340135, 121.82000039,\n",
              "       143.01659592, 117.47240083, 163.96400258, 120.22069948,\n",
              "       111.94410109, 143.8899995 , 104.14349913, 121.8599999 ,\n",
              "        78.11709894, 161.17229837, 126.45800088, 132.15200103,\n",
              "       120.24990029, 106.59119938, 153.20740113, 114.11210055,\n",
              "       161.37160092, 127.98160091,  91.54020013, 121.20970027,\n",
              "       130.85909979,  89.69369954, 120.4901995 , 120.23490077,\n",
              "       113.14470021,  90.93890027,  91.13489923, 117.59719977,\n",
              "       150.96200058, 113.09820045, 132.29310204, 116.9020011 ,\n",
              "       119.22560032, 156.01439787, 127.89830338, 113.63820148,\n",
              "       119.69950055, 138.62179852, 116.02850142,  92.37969898,\n",
              "        89.55329985, 166.33760114, 112.54880036, 115.54130053,\n",
              "       119.62620114, 114.7402002 ,  91.87169945, 117.11290029,\n",
              "       154.51010254, 151.87600142,  92.8687006 , 125.82350037,\n",
              "       104.27019951, 155.38230068, 115.34829981, 120.17779987,\n",
              "        91.85859955,  91.82940079, 152.68740065, 173.63929703,\n",
              "        78.55579958, 125.88549884, 119.12880041, 150.17480102,\n",
              "        91.67940096, 164.10490119, 139.21259797, 117.6197009 ,\n",
              "       144.36420066,  81.21479942, 124.76319899, 119.13720111,\n",
              "        90.9608008 ,  94.04079957, 173.44339724, 165.66930119,\n",
              "       168.19279995, 140.60500186, 118.42260087, 130.94930157,\n",
              "       124.26790077, 129.28790023, 121.51109987, 122.21099842,\n",
              "       127.46219966, 102.85260038, 115.32120074, 131.93939972,\n",
              "       163.5381017 , 125.75010018, 113.69590222, 123.15170062,\n",
              "        83.40580118, 102.85909896, 121.47239871, 162.86720028,\n",
              "       121.31859976,  88.05359943, 127.53910073, 108.20529978,\n",
              "       158.20510201, 165.71110038, 123.00799984, 124.56420017,\n",
              "       144.68480213,  89.25899893,  88.18160083, 115.46150053,\n",
              "       109.02889993, 128.46169834, 108.00409951, 114.7481998 ,\n",
              "       167.40539933, 119.71680029, 106.96589928, 158.38749887,\n",
              "       125.10619901, 114.49650161, 103.09950025, 150.0683993 ,\n",
              "       166.64299834, 171.33900302,  92.25639916, 114.68990039,\n",
              "       118.9971996 , 112.96250125, 160.30510507, 120.26889943,\n",
              "        72.89990237, 119.07289989, 115.3198001 , 166.20519835,\n",
              "       119.61910008, 114.86470001,  94.16699912, 116.53390149,\n",
              "       128.19089839, 114.19729985, 155.88350001, 119.62530078,\n",
              "       118.73850084, 161.52529968, 118.20440013,  95.08739887,\n",
              "       117.4855012 , 166.71860048, 111.12059856, 146.92250236,\n",
              "       119.06880056,  86.32839856, 171.56280153, 153.64909797,\n",
              "       161.10289985,  84.69589833, 120.10580007, 107.86040071,\n",
              "        92.74950063,  72.21849925,  92.89450045, 117.6470002 ,\n",
              "       176.54739957, 116.17050131, 123.74239951,  86.66909871,\n",
              "       113.51130083, 112.01220014, 161.91480425, 119.02120099,\n",
              "        87.19209784, 165.58489807, 125.21509975, 125.92879977,\n",
              "       121.21040035, 116.19060073,  90.16650017, 146.62439977,\n",
              "       108.92829914,  91.5591984 , 117.9362995 , 152.6465027 ,\n",
              "       123.14729937, 143.43539901, 148.06810144, 108.04159945,\n",
              "       129.35260135, 112.02919975, 114.30840004, 114.99670019,\n",
              "       154.99799825,  83.16109879, 124.63479971,  91.53400002,\n",
              "       113.55580019, 127.1569981 ,  92.81340008, 129.59640034,\n",
              "       124.14259912, 128.13029841, 121.82809933,  90.18860025,\n",
              "        85.18339877, 137.98569951, 163.76750133, 168.29749948,\n",
              "       160.08170319, 124.81189944, 106.46050017, 115.80370081,\n",
              "       124.11359894,  90.9545999 , 166.33079845,  91.70569914,\n",
              "       128.09410109, 117.20140115, 166.37849953, 115.9464995 ,\n",
              "       162.97620177, 166.12409979,  84.09649945, 117.80860027,\n",
              "       102.0336984 , 130.89650116, 112.58990009,  79.88179934,\n",
              "        92.49760042, 135.53169925,  98.62169971, 117.31369841,\n",
              "       116.10630084, 119.73580056, 126.57490034, 115.10870028,\n",
              "        96.97830126,  73.04759904, 118.31290008,  89.21230028,\n",
              "       135.79429955, 113.23090015, 114.83909972, 110.34340104,\n",
              "        85.56019897, 113.72870032, 126.44170102, 155.6139991 ,\n",
              "       120.18830022,  77.02520019, 114.02120019,  85.44849816,\n",
              "       114.02050071,  96.18960162, 115.91780007, 126.03779943,\n",
              "       114.27700029, 117.46339849, 118.35540081, 125.67469821,\n",
              "       111.92930224, 109.82360026, 164.80320357,  96.10089874,\n",
              "       121.37750131,  92.06790055, 116.15610098, 110.75539934,\n",
              "       155.52890262, 117.61379939, 154.35600132,  86.49859909,\n",
              "       141.90539876, 109.86619951, 106.18999985, 127.86559854,\n",
              "       119.15519954, 120.03070013, 117.6414002 , 147.85960171,\n",
              "       109.7115984 , 134.76610153, 159.40409922, 106.44639918,\n",
              "       102.61819973, 166.05389975, 119.92270117, 140.84840264,\n",
              "       104.73510085,  94.05499899, 114.00510075, 123.60250108,\n",
              "       109.87179835, 167.44230049, 171.25070284, 117.9715995 ,\n",
              "       168.77279811, 126.55890069, 161.0159046 ,  95.74399953,\n",
              "        99.25769956, 125.52410031,  72.82740034,  90.18149969,\n",
              "        93.69050125, 148.88519759, 114.1317011 , 107.51139943,\n",
              "       122.93979867,  89.39189939, 148.84920086,  93.79319802,\n",
              "        86.11449811, 106.81500088,  73.68150006, 134.61879968,\n",
              "       167.33530206, 117.83769916, 118.19479912,  96.46690161,\n",
              "       126.16139975, 127.8071004 , 113.83759944, 126.98079908,\n",
              "       127.82949861, 115.89440089,  95.71139927, 123.56349908,\n",
              "       126.48610049,  90.29220011, 133.34339998, 118.24460064,\n",
              "       116.11599765, 144.54159951,  94.06960122, 116.57210006,\n",
              "        88.04119997, 119.67419984, 115.34570028, 121.36539938,\n",
              "       153.04299956, 126.92320097, 120.64450014, 109.42510073,\n",
              "        74.44540112,  86.80449941, 125.73510017, 125.49679971,\n",
              "       127.62409925, 116.75870087, 120.41080009,  92.96630015,\n",
              "       117.65969988, 111.58990009, 106.66129981, 123.34670053,\n",
              "       118.50830052, 125.3837003 , 107.30679942, 121.96459913,\n",
              "       110.03719733, 106.86859962, 116.27020168, 154.17800193,\n",
              "       134.56430004, 125.92380113, 124.27719892,  87.69770027,\n",
              "       127.94139745,  91.77809968, 142.58520218, 114.19389998,\n",
              "       129.20030059, 109.14719969,  80.87609951, 113.28630152,\n",
              "       131.32900175, 117.75519983, 107.48260087,  92.53719879,\n",
              "       158.7348988 , 161.26449876,  91.7486989 , 117.23419914,\n",
              "        83.62520104, 156.82090332, 112.35520056, 167.51329503,\n",
              "       126.55149853, 137.5446999 , 126.58520074, 126.90300086,\n",
              "       107.0025014 , 125.92869952, 132.86660096, 127.01790017,\n",
              "       140.19830394,  99.70620133, 125.68109976, 110.18930072,\n",
              "       174.04019833, 113.97420059, 113.03180024, 105.57390024,\n",
              "       119.91810097, 136.0422979 , 124.54660166, 123.29829909,\n",
              "       101.93890095, 121.8841011 , 104.70090058, 123.19499902,\n",
              "       126.74639833, 118.13669969, 114.31159935, 127.14330033,\n",
              "       152.41810165, 131.41070275, 176.13529767, 115.06420159,\n",
              "       112.24589954, 127.73700027, 116.54220053, 117.66610001,\n",
              "       128.5270012 , 117.65130083, 115.53370047, 113.31479935,\n",
              "       107.89620027, 126.0680985 ,  91.02450036,  94.40830063,\n",
              "       108.42659956, 121.30590017,  86.94549958, 120.75350116,\n",
              "       126.4450993 , 163.53910203, 109.33429885, 129.05169954,\n",
              "       159.71589875, 141.58500034, 125.02090092, 119.92460079,\n",
              "        99.88200133, 109.41329793,  91.14900085, 117.70080084,\n",
              "       108.41949982, 109.6664985 ,  91.58459999, 122.42229992,\n",
              "       101.90609849, 108.82519958, 129.43209997,  86.26509935,\n",
              "       117.03440122, 103.02380006, 110.13099972, 141.53889662,\n",
              "       112.87779986,  88.02489934, 118.48690183, 156.36490115,\n",
              "       102.68459968,  88.00429993, 153.46609975, 108.36649957,\n",
              "       122.37189985, 137.23250381, 105.00050089, 155.3770026 ,\n",
              "       114.0014999 , 135.24540158, 106.36060054, 126.91679998,\n",
              "       110.59120017,  87.12929872, 124.02149936, 165.15620101,\n",
              "        83.84489847,  81.26759908, 165.84759928, 112.96350183,\n",
              "       112.54230069, 118.58349866,  89.40090063,  93.41030113,\n",
              "       153.19379847, 114.62980046, 114.53729992, 155.10270007,\n",
              "        91.80259986, 170.43690192,  76.36269825, 121.99369889,\n",
              "       113.19359991, 117.3631013 , 113.20810112, 152.35120196,\n",
              "       104.63040031, 161.06699724,  86.84699801, 150.2154001 ,\n",
              "        90.46909867, 123.98499999, 108.57299962, 115.23909991,\n",
              "       147.9313994 , 120.3141994 , 118.86990121,  87.41669998,\n",
              "       120.90610055,  76.21300031, 154.85420126, 120.36900065,\n",
              "        91.19679883, 115.07340035, 148.90030082, 131.58919933,\n",
              "       162.02229844, 125.69929987, 102.32839842, 121.95129992,\n",
              "       117.8244008 , 155.19889857, 108.79990009, 132.91890262,\n",
              "       148.37239749, 127.12639956, 154.60110098, 125.09439972,\n",
              "        91.6997984 ,  88.15260002, 161.68079934, 154.11810122,\n",
              "       120.99840002, 105.02500054,  95.21270079, 127.32739944,\n",
              "       117.45990048, 124.36940126, 117.62219946,  90.8703995 ,\n",
              "       165.66650113, 148.47540011, 113.99319975,  85.40809866,\n",
              "       125.7796999 , 154.66100342, 120.56560115, 153.23200201,\n",
              "       161.24339961,  92.98760099, 105.5870001 , 127.54149858,\n",
              "       146.01090186, 122.39410019, 164.98490292, 116.3605998 ,\n",
              "       113.12329934, 154.19310027, 112.24450024, 111.04759962,\n",
              "       111.61019885, 105.02439947, 168.7276995 ])"
            ]
          },
          "metadata": {},
          "execution_count": 22
        }
      ]
    },
    {
      "cell_type": "markdown",
      "source": [
        "R squared Error"
      ],
      "metadata": {
        "id": "tN00N7Y6F_9l"
      }
    },
    {
      "cell_type": "code",
      "source": [
        "error = metrics.r2_score(Y_test,test_pred)\n",
        "print(\"R squared error = \",error)"
      ],
      "metadata": {
        "colab": {
          "base_uri": "https://localhost:8080/"
        },
        "id": "wuAv-xEkF3Gy",
        "outputId": "5d245b02-d118-44b3-8439-4f8cd04ce092"
      },
      "execution_count": 23,
      "outputs": [
        {
          "output_type": "stream",
          "name": "stdout",
          "text": [
            "R squared error =  0.9862925791752808\n"
          ]
        }
      ]
    },
    {
      "cell_type": "markdown",
      "source": [
        "Comparing the actual and the predicted values with the plot"
      ],
      "metadata": {
        "id": "YMyj1YcnGYBS"
      }
    },
    {
      "cell_type": "code",
      "source": [
        "Y_test = list(Y_test)"
      ],
      "metadata": {
        "id": "NnxphQbhHAvs"
      },
      "execution_count": 25,
      "outputs": []
    },
    {
      "cell_type": "code",
      "source": [
        "plt.plot(Y_test,color='red',label='Actual Values')\n",
        "plt.plot(test_pred,color='blue',label='Predicted Values')\n",
        "plt.title('Actual Price vs Predicted Price')\n",
        "plt.xlabel('Number of Values')\n",
        "plt.ylabel('GLD Price')\n",
        "plt.legend()\n",
        "plt.show()"
      ],
      "metadata": {
        "colab": {
          "base_uri": "https://localhost:8080/",
          "height": 295
        },
        "id": "73eq6L0kGToQ",
        "outputId": "4bf58dc4-5e7a-4ab5-fc02-e3a7e5afa121"
      },
      "execution_count": 26,
      "outputs": [
        {
          "output_type": "display_data",
          "data": {
            "text/plain": [
              "<Figure size 432x288 with 1 Axes>"
            ],
            "image/png": "[encoded data removed]"
          },
          "metadata": {
            "needs_background": "light"
          }
        }
      ]
    }
  ]
}